{
 "cells": [
  {
   "cell_type": "code",
   "execution_count": null,
   "metadata": {},
   "outputs": [],
   "source": [
    "import boto3\n",
    "import datetime\n",
    "import json\n",
    "from dateutil.tz import tzlocal\n",
    "\n",
    "import get_test_details\n",
    "import query_experiment_details\n",
    "import aggregate_statistics\n",
    "import plot\n",
    "\n",
    "stepfunctions = boto3.client('stepfunctions')\n",
    "cloudwatch_logs = boto3.client('logs')\n",
    "cloudformation = boto3.client('cloudformation')\n",
    "cloudwatch = boto3.client('cloudwatch')"
   ]
  },
  {
   "cell_type": "code",
   "execution_count": null,
   "metadata": {
    "tags": []
   },
   "outputs": [],
   "source": [
    "test_params = []"
   ]
  },
  {
   "cell_type": "code",
   "execution_count": null,
   "metadata": {
    "tags": []
   },
   "outputs": [],
   "source": [
    "test_params.extend([\n",
    "    {'execution_arn': '' }\n",
    "])"
   ]
  },
  {
   "cell_type": "code",
   "execution_count": null,
   "metadata": {},
   "outputs": [],
   "source": [
    "test_details = get_test_details.get_test_details(test_params, stepfunctions, cloudformation)"
   ]
  },
  {
   "cell_type": "code",
   "execution_count": null,
   "metadata": {},
   "outputs": [],
   "source": [
    "(producer_stats, consumer_stats) = query_experiment_details.query_cw_logs(test_details, cloudwatch_logs)"
   ]
  },
  {
   "cell_type": "code",
   "execution_count": null,
   "metadata": {},
   "outputs": [],
   "source": [
    "partitions = {\n",
    "    'ignore_keys': [ 'topic_id', 'cluster_id', 'test_id', 'cluster_name', 'num_producers', ],\n",
    "    'title_keys': [ 'broker_storage', 'in_cluster_encryption', 'duration_sec', 'kafka_version', ],\n",
    "    'row_keys': [ 'client_props.producer', 'client_props.consumer', ],\n",
    "    'column_keys': [ 'consumer_groups.num_groups' ],\n",
    "    'metric_color_keys': [ 'brokers', 'num_partitions', ],\n",
    "}\n",
    "\n",
    "filter_fn = lambda x: True\n",
    "filter_agg_fn = lambda x: x['test_results']['sent_div_requested_mb_per_sec']>=0.995\n",
    "\n",
    "filtered_producer_stats = list(filter(filter_fn, producer_stats))\n",
    "filtered_consumer_stats = filter(filter_fn, consumer_stats)\n",
    "\n",
    "(producer_aggregated_stats, consumer_aggregated_stats, combined_stats) = aggregate_statistics.aggregate_cw_logs(filtered_producer_stats, filtered_consumer_stats, partitions)\n",
    "filtered_producer_aggregated_stats = list(filter(filter_agg_fn, producer_aggregated_stats))\n"
   ]
  },
  {
   "cell_type": "code",
   "execution_count": null,
   "metadata": {},
   "outputs": [],
   "source": [
    "plot.plot_measurements(filtered_producer_aggregated_stats, ['latency_ms_p50_mean', 'latency_ms_p95_mean', 'latency_ms_p99_mean', 'latency_ms_p999_mean' ], 'producer put latency (ms)', **partitions, ymax=350)\n",
    "plot.plot_measurements(filtered_producer_aggregated_stats, ['latency_ms_p50_stdev', 'latency_ms_p95_stdev', 'latency_ms_p99_stdev', 'latency_ms_p999_stdev' ], 'producer put latency stdev (ms)', **partitions, )"
   ]
  },
  {
   "cell_type": "code",
   "execution_count": null,
   "metadata": {},
   "outputs": [],
   "source": [
    "plot.plot_measurements(producer_aggregated_stats, ['sent_div_requested_mb_per_sec'], 'sent / requested throughput (mb/sec)', **partitions, ymin=0.990, ymax=1.01)\n",
    "plot.plot_measurements(producer_aggregated_stats, ['actual_duration_div_requested_duration_sec_max'], 'actual test duration/requested test duration (ratio)', **partitions)\n",
    "plot.plot_measurements(producer_aggregated_stats, ['num_tests'], 'number of tests (count)', **partitions)"
   ]
  },
  {
   "cell_type": "code",
   "execution_count": null,
   "metadata": {},
   "outputs": [],
   "source": []
  }
 ],
 "metadata": {
  "kernelspec": {
   "display_name": "conda_amazonei_mxnet_p36",
   "language": "python",
   "name": "conda_amazonei_mxnet_p36"
  },
  "language_info": {
   "codemirror_mode": {
    "name": "ipython",
    "version": 3
   },
   "file_extension": ".py",
   "mimetype": "text/x-python",
   "name": "python",
   "nbconvert_exporter": "python",
   "pygments_lexer": "ipython3",
   "version": "3.6.13"
  }
 },
 "nbformat": 4,
 "nbformat_minor": 4
}
